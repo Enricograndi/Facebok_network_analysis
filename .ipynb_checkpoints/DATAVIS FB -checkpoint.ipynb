{
 "cells": [
  {
   "cell_type": "code",
   "execution_count": null,
   "id": "7225bad1",
   "metadata": {},
   "outputs": [],
   "source": [
    "import pandas as pd\n",
    "import networkx as nx\n",
    "import matplotlib.pyplot as plt\n",
    "G = nx.read_edgelist('//Users/martina/Desktop/DATA SCIENCE/Data Visualization/Project Datavis /facebook_combined (1).txt', create_using=nx.Graph(),nodetype= int)\n",
    "#circles = read_circles(\"/Users/martina/Downloads/facebook 3/3437.circles\")"
   ]
  },
  {
   "cell_type": "code",
   "execution_count": null,
   "id": "958c02f4",
   "metadata": {},
   "outputs": [],
   "source": [
    "sp= nx.spring_layout(G)"
   ]
  },
  {
   "cell_type": "code",
   "execution_count": null,
   "id": "276d83ea",
   "metadata": {},
   "outputs": [],
   "source": [
    "plt.axis('off')\n",
    "plt.figure(figsize=(20,10))\n",
    "nx.draw_networkx(G, pos= sp,with_labels= True, node_size=10)"
   ]
  },
  {
   "cell_type": "markdown",
   "id": "ebbfacac",
   "metadata": {},
   "source": [
    "# Node 0 "
   ]
  },
  {
   "cell_type": "code",
   "execution_count": null,
   "id": "3d5e88ea",
   "metadata": {},
   "outputs": [],
   "source": [
    "import networkx as nx\n",
    "import numpy as np\n",
    "from networkx.algorithms import approximation\n",
    "from networkx.algorithms import reciprocity\n",
    "import matplotlib.pyplot as plt\n",
    "from collections import Counter\n",
    "import random\n",
    "from itertools import combinations, groupby\n",
    "from node2vec import Node2Vec\n",
    "from sklearn.metrics.cluster import adjusted_rand_score\n",
    "\n",
    "from sklearn.cluster import KMeans\n",
    "from sklearn.model_selection import train_test_split\n",
    "\n",
    "from sklearn.ensemble import RandomForestClassifier\n",
    "from sklearn.metrics import f1_score\n",
    "\n",
    "import statistics\n",
    "\n",
    "%matplotlib inline"
   ]
  },
  {
   "cell_type": "code",
   "execution_count": null,
   "id": "904db8cb",
   "metadata": {},
   "outputs": [],
   "source": [
    "def read_circles(file_path):\n",
    "    with open(file_path) as f :\n",
    "        content = f.readlines()\n",
    "        content = [line.replace(\"\\n\",\"\") for line in content]\n",
    "        content = [line.split(\"\\t\") for line in content]\n",
    "    return {circle[0]:list(map(int,circle[1:])) for circle in content} # Convert nodes to int and add to dict."
   ]
  },
  {
   "cell_type": "code",
   "execution_count": null,
   "id": "c22c37ce",
   "metadata": {},
   "outputs": [],
   "source": [
    "P= nx.read_edgelist(\"/Users/martina/Desktop/DATA SCIENCE/Data Visualization/Project Datavis /facebook 3/0.edges\",nodetype=int)"
   ]
  },
  {
   "cell_type": "code",
   "execution_count": null,
   "id": "1280025e",
   "metadata": {},
   "outputs": [],
   "source": [
    "circles = read_circles(\"/Users/martina/Desktop/DATA SCIENCE/Data Visualization/Project Datavis /facebook 3/0.circles\")\n"
   ]
  },
  {
   "cell_type": "code",
   "execution_count": null,
   "id": "dad7ce59",
   "metadata": {},
   "outputs": [],
   "source": [
    "plt.figure(figsize=(30,20))\n",
    "nx.draw(P,with_labels=True)"
   ]
  },
  {
   "cell_type": "code",
   "execution_count": null,
   "id": "38084d7f",
   "metadata": {},
   "outputs": [],
   "source": [
    "# Degree centrality can be computed using degree_centrality\n",
    "deg_cen_P = nx.degree_centrality(P)\n",
    "deg_cen_P"
   ]
  },
  {
   "cell_type": "code",
   "execution_count": null,
   "id": "6890ab6d",
   "metadata": {},
   "outputs": [],
   "source": [
    "sorted_deg_cen_P = sorted(deg_cen_P.items(), key=lambda x:x[1], reverse = True)"
   ]
  },
  {
   "cell_type": "code",
   "execution_count": null,
   "id": "bf82d44d",
   "metadata": {},
   "outputs": [],
   "source": [
    "#computation of betweenness\n",
    "bw_centrality_P = nx.betweenness_centrality(P, normalized=False)\n",
    "bw_centrality_P\n",
    "sorted_bw_cen_P = sorted(bw_centrality_P.items(), key=lambda x:x[1], reverse = True)"
   ]
  }
 ],
 "metadata": {
  "kernelspec": {
   "display_name": "Python 3",
   "language": "python",
   "name": "python3"
  },
  "language_info": {
   "codemirror_mode": {
    "name": "ipython",
    "version": 3
   },
   "file_extension": ".py",
   "mimetype": "text/x-python",
   "name": "python",
   "nbconvert_exporter": "python",
   "pygments_lexer": "ipython3",
   "version": "3.7.11"
  }
 },
 "nbformat": 4,
 "nbformat_minor": 5
}
